{
 "cells": [
  {
   "cell_type": "code",
   "execution_count": 2,
   "metadata": {},
   "outputs": [
    {
     "data": {
      "text/html": [
       "<div>\n",
       "<style scoped>\n",
       "    .dataframe tbody tr th:only-of-type {\n",
       "        vertical-align: middle;\n",
       "    }\n",
       "\n",
       "    .dataframe tbody tr th {\n",
       "        vertical-align: top;\n",
       "    }\n",
       "\n",
       "    .dataframe thead th {\n",
       "        text-align: right;\n",
       "    }\n",
       "</style>\n",
       "<table border=\"1\" class=\"dataframe\">\n",
       "  <thead>\n",
       "    <tr style=\"text-align: right;\">\n",
       "      <th></th>\n",
       "      <th>frame_index</th>\n",
       "      <th>neuron_4</th>\n",
       "      <th>neuron_7</th>\n",
       "      <th>neuron_8</th>\n",
       "      <th>neuron_9</th>\n",
       "      <th>neuron_10</th>\n",
       "      <th>neuron_11</th>\n",
       "      <th>neuron_12</th>\n",
       "      <th>neuron_13</th>\n",
       "      <th>neuron_14</th>\n",
       "      <th>...</th>\n",
       "      <th>neuron_44</th>\n",
       "      <th>neuron_45</th>\n",
       "      <th>neuron_46</th>\n",
       "      <th>neuron_47</th>\n",
       "      <th>neuron_48</th>\n",
       "      <th>neuron_49</th>\n",
       "      <th>neuron_50</th>\n",
       "      <th>neuron_51</th>\n",
       "      <th>neuron_52</th>\n",
       "      <th>stamp_msSinceEpoch</th>\n",
       "    </tr>\n",
       "  </thead>\n",
       "  <tbody>\n",
       "    <tr>\n",
       "      <th>0</th>\n",
       "      <td>0</td>\n",
       "      <td>0.000000</td>\n",
       "      <td>0.060909</td>\n",
       "      <td>0.004638</td>\n",
       "      <td>0.003604</td>\n",
       "      <td>0.015218</td>\n",
       "      <td>0.004655</td>\n",
       "      <td>0.010936</td>\n",
       "      <td>0.006687</td>\n",
       "      <td>0.000000</td>\n",
       "      <td>...</td>\n",
       "      <td>0.003801</td>\n",
       "      <td>0.000553</td>\n",
       "      <td>0.040030</td>\n",
       "      <td>0.010343</td>\n",
       "      <td>0.000000</td>\n",
       "      <td>0.000162</td>\n",
       "      <td>0.005307</td>\n",
       "      <td>0.000000</td>\n",
       "      <td>0.006271</td>\n",
       "      <td>1680271295171</td>\n",
       "    </tr>\n",
       "    <tr>\n",
       "      <th>1</th>\n",
       "      <td>2</td>\n",
       "      <td>0.036173</td>\n",
       "      <td>0.164813</td>\n",
       "      <td>0.007616</td>\n",
       "      <td>0.000000</td>\n",
       "      <td>0.018125</td>\n",
       "      <td>0.007724</td>\n",
       "      <td>0.011625</td>\n",
       "      <td>0.015922</td>\n",
       "      <td>0.014464</td>\n",
       "      <td>...</td>\n",
       "      <td>0.007462</td>\n",
       "      <td>0.041431</td>\n",
       "      <td>0.338536</td>\n",
       "      <td>0.038388</td>\n",
       "      <td>0.046639</td>\n",
       "      <td>0.002800</td>\n",
       "      <td>0.099485</td>\n",
       "      <td>0.043968</td>\n",
       "      <td>0.023744</td>\n",
       "      <td>1680271295331</td>\n",
       "    </tr>\n",
       "    <tr>\n",
       "      <th>2</th>\n",
       "      <td>4</td>\n",
       "      <td>0.050402</td>\n",
       "      <td>0.193675</td>\n",
       "      <td>0.009401</td>\n",
       "      <td>0.075075</td>\n",
       "      <td>0.019208</td>\n",
       "      <td>0.009636</td>\n",
       "      <td>0.011593</td>\n",
       "      <td>0.021142</td>\n",
       "      <td>0.027613</td>\n",
       "      <td>...</td>\n",
       "      <td>0.009871</td>\n",
       "      <td>0.058384</td>\n",
       "      <td>0.478910</td>\n",
       "      <td>0.052167</td>\n",
       "      <td>0.101694</td>\n",
       "      <td>0.004221</td>\n",
       "      <td>0.124260</td>\n",
       "      <td>0.062551</td>\n",
       "      <td>0.032249</td>\n",
       "      <td>1680271295441</td>\n",
       "    </tr>\n",
       "    <tr>\n",
       "      <th>3</th>\n",
       "      <td>6</td>\n",
       "      <td>0.052716</td>\n",
       "      <td>0.186280</td>\n",
       "      <td>0.010319</td>\n",
       "      <td>0.131992</td>\n",
       "      <td>0.019061</td>\n",
       "      <td>0.010691</td>\n",
       "      <td>0.011100</td>\n",
       "      <td>0.023572</td>\n",
       "      <td>0.035534</td>\n",
       "      <td>...</td>\n",
       "      <td>0.011331</td>\n",
       "      <td>0.062189</td>\n",
       "      <td>0.470203</td>\n",
       "      <td>0.056978</td>\n",
       "      <td>0.118282</td>\n",
       "      <td>0.004963</td>\n",
       "      <td>0.123059</td>\n",
       "      <td>0.071430</td>\n",
       "      <td>0.035104</td>\n",
       "      <td>1680271295576</td>\n",
       "    </tr>\n",
       "    <tr>\n",
       "      <th>4</th>\n",
       "      <td>8</td>\n",
       "      <td>0.049051</td>\n",
       "      <td>0.163548</td>\n",
       "      <td>0.010619</td>\n",
       "      <td>0.160449</td>\n",
       "      <td>0.018120</td>\n",
       "      <td>0.011122</td>\n",
       "      <td>0.010332</td>\n",
       "      <td>0.024108</td>\n",
       "      <td>0.039662</td>\n",
       "      <td>...</td>\n",
       "      <td>0.012078</td>\n",
       "      <td>0.059144</td>\n",
       "      <td>0.413882</td>\n",
       "      <td>0.056370</td>\n",
       "      <td>0.116308</td>\n",
       "      <td>0.016796</td>\n",
       "      <td>0.113208</td>\n",
       "      <td>0.069873</td>\n",
       "      <td>0.034545</td>\n",
       "      <td>1680271295710</td>\n",
       "    </tr>\n",
       "  </tbody>\n",
       "</table>\n",
       "<p>5 rows × 48 columns</p>\n",
       "</div>"
      ],
      "text/plain": [
       "   frame_index  neuron_4  neuron_7  neuron_8  neuron_9  neuron_10  neuron_11  \\\n",
       "0            0  0.000000  0.060909  0.004638  0.003604   0.015218   0.004655   \n",
       "1            2  0.036173  0.164813  0.007616  0.000000   0.018125   0.007724   \n",
       "2            4  0.050402  0.193675  0.009401  0.075075   0.019208   0.009636   \n",
       "3            6  0.052716  0.186280  0.010319  0.131992   0.019061   0.010691   \n",
       "4            8  0.049051  0.163548  0.010619  0.160449   0.018120   0.011122   \n",
       "\n",
       "   neuron_12  neuron_13  neuron_14  ...  neuron_44  neuron_45  neuron_46  \\\n",
       "0   0.010936   0.006687   0.000000  ...   0.003801   0.000553   0.040030   \n",
       "1   0.011625   0.015922   0.014464  ...   0.007462   0.041431   0.338536   \n",
       "2   0.011593   0.021142   0.027613  ...   0.009871   0.058384   0.478910   \n",
       "3   0.011100   0.023572   0.035534  ...   0.011331   0.062189   0.470203   \n",
       "4   0.010332   0.024108   0.039662  ...   0.012078   0.059144   0.413882   \n",
       "\n",
       "   neuron_47  neuron_48  neuron_49  neuron_50  neuron_51  neuron_52  \\\n",
       "0   0.010343   0.000000   0.000162   0.005307   0.000000   0.006271   \n",
       "1   0.038388   0.046639   0.002800   0.099485   0.043968   0.023744   \n",
       "2   0.052167   0.101694   0.004221   0.124260   0.062551   0.032249   \n",
       "3   0.056978   0.118282   0.004963   0.123059   0.071430   0.035104   \n",
       "4   0.056370   0.116308   0.016796   0.113208   0.069873   0.034545   \n",
       "\n",
       "   stamp_msSinceEpoch  \n",
       "0       1680271295171  \n",
       "1       1680271295331  \n",
       "2       1680271295441  \n",
       "3       1680271295576  \n",
       "4       1680271295710  \n",
       "\n",
       "[5 rows x 48 columns]"
      ]
     },
     "execution_count": 2,
     "metadata": {},
     "output_type": "execute_result"
    }
   ],
   "source": [
    "# Imports\n",
    "import numpy as np\n",
    "import matplotlib.pyplot as plt\n",
    "import pandas as pd\n",
    "\n",
    "# Load data\n",
    "calcium = pd.read_csv('2023_03_31_undirected_song_joint_spkfn.csv')\n",
    "calcium.head()"
   ]
  },
  {
   "cell_type": "markdown",
   "metadata": {},
   "source": [
    "Load in Data of annotated notes and convert to ms"
   ]
  },
  {
   "cell_type": "code",
   "execution_count": 3,
   "metadata": {},
   "outputs": [
    {
     "data": {
      "text/html": [
       "<div>\n",
       "<style scoped>\n",
       "    .dataframe tbody tr th:only-of-type {\n",
       "        vertical-align: middle;\n",
       "    }\n",
       "\n",
       "    .dataframe tbody tr th {\n",
       "        vertical-align: top;\n",
       "    }\n",
       "\n",
       "    .dataframe thead th {\n",
       "        text-align: right;\n",
       "    }\n",
       "</style>\n",
       "<table border=\"1\" class=\"dataframe\">\n",
       "  <thead>\n",
       "    <tr style=\"text-align: right;\">\n",
       "      <th></th>\n",
       "      <th>start</th>\n",
       "      <th>end</th>\n",
       "      <th>note</th>\n",
       "    </tr>\n",
       "  </thead>\n",
       "  <tbody>\n",
       "    <tr>\n",
       "      <th>0</th>\n",
       "      <td>1.680271e+12</td>\n",
       "      <td>1.680271e+12</td>\n",
       "      <td>i</td>\n",
       "    </tr>\n",
       "    <tr>\n",
       "      <th>1</th>\n",
       "      <td>1.680271e+12</td>\n",
       "      <td>1.680271e+12</td>\n",
       "      <td>i</td>\n",
       "    </tr>\n",
       "    <tr>\n",
       "      <th>2</th>\n",
       "      <td>1.680271e+12</td>\n",
       "      <td>1.680271e+12</td>\n",
       "      <td>x</td>\n",
       "    </tr>\n",
       "    <tr>\n",
       "      <th>3</th>\n",
       "      <td>1.680271e+12</td>\n",
       "      <td>1.680271e+12</td>\n",
       "      <td>y</td>\n",
       "    </tr>\n",
       "    <tr>\n",
       "      <th>4</th>\n",
       "      <td>1.680271e+12</td>\n",
       "      <td>1.680271e+12</td>\n",
       "      <td>x</td>\n",
       "    </tr>\n",
       "  </tbody>\n",
       "</table>\n",
       "</div>"
      ],
      "text/plain": [
       "          start           end note\n",
       "0  1.680271e+12  1.680271e+12    i\n",
       "1  1.680271e+12  1.680271e+12    i\n",
       "2  1.680271e+12  1.680271e+12    x\n",
       "3  1.680271e+12  1.680271e+12    y\n",
       "4  1.680271e+12  1.680271e+12    x"
      ]
     },
     "execution_count": 3,
     "metadata": {},
     "output_type": "execute_result"
    }
   ],
   "source": [
    "notes = pd.read_csv('2023_03_31_7_03_30_annotated.txt', sep='\\t', \n",
    "                                                        header=None, \n",
    "                                                        names=['start', 'end', 'note'])\n",
    "start_Ms = 1680271410910\n",
    "# Convert timing in s to ms from start_Ms\n",
    "notes['start'] = notes['start'] * 1000 + start_Ms\n",
    "notes['end'] = notes['end'] * 1000 + start_Ms\n",
    "notes.head()"
   ]
  },
  {
   "cell_type": "markdown",
   "metadata": {},
   "source": [
    "Create Transition matrix between syllables"
   ]
  },
  {
   "cell_type": "code",
   "execution_count": 4,
   "metadata": {},
   "outputs": [
    {
     "name": "stderr",
     "output_type": "stream",
     "text": [
      "C:\\Users\\nriveira\\AppData\\Local\\Temp\\ipykernel_19892\\2962725200.py:15: RuntimeWarning: invalid value encountered in divide\n",
      "  transitions[i,:] /= (notes['note']==states[i]).sum()\n"
     ]
    },
    {
     "data": {
      "text/plain": [
       "<matplotlib.colorbar.Colorbar at 0x12ee4ae7ad0>"
      ]
     },
     "execution_count": 4,
     "metadata": {},
     "output_type": "execute_result"
    },
    {
     "data": {
      "image/png": "[encoded data removed]",
      "text/plain": [
       "<Figure size 640x480 with 2 Axes>"
      ]
     },
     "metadata": {},
     "output_type": "display_data"
    }
   ],
   "source": [
    "# Calculate transition probabilities by making a matrix of all possible transitions\n",
    "# and then counting the number of times each transition occurs\n",
    "states = notes['note'].unique()\n",
    "n_states = len(states)\n",
    "transitions = np.zeros((n_states, n_states))\n",
    "\n",
    "# Count the number of times each transition occurs\n",
    "for i in range(len(notes)-1):\n",
    "    start = notes['note'][i]\n",
    "    end = notes['note'][i+1]\n",
    "    transitions[np.where(states==start), np.where(states==end)] += 1\n",
    "\n",
    "# Normalize the transition matrix by frequency of each state\n",
    "for i in range(n_states):\n",
    "    transitions[i,:] /= (notes['note']==states[i]).sum()\n",
    "\n",
    "# Plot the transition matrix\n",
    "fig, ax = plt.subplots()\n",
    "plt.imshow(transitions)\n",
    "\n",
    "plt.xticks(range(n_states), states)\n",
    "plt.yticks(range(n_states), states)\n",
    "ax.set(xlabel='Second Syllable', ylabel='First Syllable')\n",
    "plt.colorbar()"
   ]
  },
  {
   "cell_type": "markdown",
   "metadata": {},
   "source": [
    "Look at Calcium imaging traces"
   ]
  },
  {
   "cell_type": "code",
   "execution_count": 5,
   "metadata": {},
   "outputs": [
    {
     "data": {
      "text/plain": [
       "[<matplotlib.lines.Line2D at 0x12ee4fd9210>]"
      ]
     },
     "execution_count": 5,
     "metadata": {},
     "output_type": "execute_result"
    },
    {
     "data": {
      "image/png": "[encoded data removed]",
      "text/plain": [
       "<Figure size 640x480 with 1 Axes>"
      ]
     },
     "metadata": {},
     "output_type": "display_data"
    }
   ],
   "source": [
    "# Plot change in F as a function of total F for neuron 7\n",
    "neuron = 'neuron_7'\n",
    "F = np.array(calcium[neuron])\n",
    "f0 = np.percentile(F, 5)\n",
    "F = (F - f0) / f0\n",
    "time_ms = (calcium['stamp_msSinceEpoch'] - calcium['stamp_msSinceEpoch'].min())/1000\n",
    "plt.plot(time_ms, F)"
   ]
  }
 ],
 "metadata": {
  "kernelspec": {
   "display_name": "projects",
   "language": "python",
   "name": "python3"
  },
  "language_info": {
   "codemirror_mode": {
    "name": "ipython",
    "version": 3
   },
   "file_extension": ".py",
   "mimetype": "text/x-python",
   "name": "python",
   "nbconvert_exporter": "python",
   "pygments_lexer": "ipython3",
   "version": "3.11.6"
  },
  "orig_nbformat": 4
 },
 "nbformat": 4,
 "nbformat_minor": 2
}
