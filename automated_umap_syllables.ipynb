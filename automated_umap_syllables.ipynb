{
 "cells": [
  {
   "cell_type": "code",
   "execution_count": null,
   "metadata": {},
   "outputs": [],
   "source": [
    "# Load pickle file with syllable data and run UMAP on it\n",
    "import numpy as np\n",
    "import pandas as pd\n",
    "import matplotlib.pyplot as plt\n",
    "import umap\n",
    "\n",
    "\n",
    "%matplotlib inline"
   ]
  },
  {
   "cell_type": "code",
   "execution_count": null,
   "metadata": {},
   "outputs": [],
   "source": [
    "# load pickle file\n",
    "fs = 44100\n",
    "\n",
    "syllables = pd.read_pickle('syllables.pkl')\n",
    "syllables.head()"
   ]
  },
  {
   "cell_type": "code",
   "execution_count": null,
   "metadata": {},
   "outputs": [],
   "source": [
    "from sklearn.cluster import HDBSCAN\n",
    "\n",
    "data = np.array(syllables['sonogram'].tolist())\n",
    "reducer = umap.UMAP(n_neighbors=5,\n",
    "                    min_dist=0.5,\n",
    "                    n_components=2,\n",
    "                    metric='canberra',\n",
    "                    n_jobs=-1,)\n",
    "embedding = reducer.fit_transform(data.reshape(data.shape[0], -1))\n",
    "hdbscan = HDBSCAN(min_cluster_size=20).fit_predict(embedding)\n",
    "\n",
    "# Use embedding to cluster the notes\n",
    "plt.scatter(embedding[:, 0], embedding[:, 1], c=hdbscan, alpha=0.5)\n",
    "plt.title('Sonogram HDBSCAN Clusters')\n",
    "plt.colorbar()\n",
    "\n",
    "plt.tight_layout()      "
   ]
  },
  {
   "cell_type": "code",
   "execution_count": null,
   "metadata": {},
   "outputs": [],
   "source": [
    "from sklearn.manifold import TSNE\n",
    "\n",
    "data = np.array(syllables['sonogram'].tolist())\n",
    "reducer = TSNE(n_components=2, verbose=0, perplexity=10, n_iter=10000, metric='canberra', n_jobs=-1)\n",
    "embedding = reducer.fit_transform(data.reshape(data.shape[0], -1))\n",
    "hdbscan = HDBSCAN(min_cluster_size=20).fit(embedding)\n",
    "\n",
    "# Plot the TSNE embedding\n",
    "plt.scatter(embedding[:, 0], embedding[:, 1], c=hdbscan.labels_, cmap='Spectral')\n",
    "plt.title('STFT TSNE Embedding')"
   ]
  },
  {
   "cell_type": "code",
   "execution_count": null,
   "metadata": {},
   "outputs": [],
   "source": []
  }
 ],
 "metadata": {
  "kernelspec": {
   "display_name": "birdsong",
   "language": "python",
   "name": "python3"
  },
  "language_info": {
   "codemirror_mode": {
    "name": "ipython",
    "version": 3
   },
   "file_extension": ".py",
   "mimetype": "text/x-python",
   "name": "python",
   "nbconvert_exporter": "python",
   "pygments_lexer": "ipython3",
   "version": "3.12.8"
  }
 },
 "nbformat": 4,
 "nbformat_minor": 2
}
