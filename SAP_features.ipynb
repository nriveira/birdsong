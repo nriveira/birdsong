{
 "cells": [
  {
   "cell_type": "code",
   "execution_count": 1,
   "metadata": {},
   "outputs": [],
   "source": [
    "# Feature extraction for sound analysis of birdsong\n",
    "import numpy as np\n",
    "import pandas as pd\n",
    "import matplotlib.pyplot as plt\n",
    "import librosa\n",
    "\n",
    "from scipy.io import wavfile\n",
    "import scipy.signal as signal\n",
    "import IPython.display as ipd\n",
    "\n",
    "%matplotlib inline"
   ]
  },
  {
   "cell_type": "code",
   "execution_count": null,
   "metadata": {},
   "outputs": [],
   "source": [
    "sound_file = '2023_03_31_7_03_30.wav'\n",
    "fs, audio = wavfile.read(sound_file)\n",
    "audio_clip = audio[:fs*5]\n",
    "ipd.Audio(sound_file)"
   ]
  },
  {
   "cell_type": "markdown",
   "metadata": {},
   "source": [
    "Implemented Features"
   ]
  },
  {
   "cell_type": "markdown",
   "metadata": {},
   "source": [
    "## STFT and Spectral Derivative"
   ]
  },
  {
   "cell_type": "code",
   "execution_count": null,
   "metadata": {},
   "outputs": [],
   "source": [
    "import scipy.signal as signal\n",
    "from scipy.fft import fft, ifft, fftfreq, fftshift\n",
    "window_size = 1323\n",
    "hop_length = 163\n",
    "\n",
    "x = audio_clip\n",
    "\n",
    "tapers = signal.windows.dpss(window_size, 1.5, 2)\n",
    "size = len(x)\n",
    "f_notShifted = fftfreq(window_size, 1/fs)\n",
    "f = fftshift(f_notShifted)\n",
    "f_index = f > 0\n",
    "\n",
    "sonogram = np.zeros((f_index.sum(), np.floor(size / hop_length).astype(int)))\n",
    "freq_deriv = np.zeros((f_index.sum(), np.floor(size / hop_length).astype(int)))\n",
    "time_deriv = np.zeros((f_index.sum(), np.floor(size / hop_length).astype(int)))\n",
    "frequency_modulation = np.zeros(np.floor(size / hop_length).astype(int))\n",
    "spectral_derivative = np.zeros((f_index.sum(), np.floor(size / hop_length).astype(int)))\n",
    "\n",
    "wav_smp = np.arange(size-window_size, step=hop_length).astype(int)\n",
    "t = np.arange(np.floor(size / hop_length)) * (hop_length/fs)\n",
    "for i in range(len(wav_smp)):\n",
    "    samps = np.arange(wav_smp[i], np.floor(wav_smp[i] + window_size).astype(int))\n",
    "    window1 = x[samps] * tapers[0]\n",
    "    window2 = x[samps] * tapers[1]\n",
    "    \n",
    "    powSpect1 = fftshift(fft(window1))\n",
    "    powSpect2 = fftshift(fft(window2))\n",
    "    r1 = (np.abs(powSpect1) + np.abs(powSpect2))**2\n",
    "    sonogram[:,i] = r1[f_index]\n",
    "    \n",
    "    # Directely from SAP code\n",
    "    fR1 = np.real(powSpect1[f_index])\n",
    "    fi1 = np.imag(powSpect1[f_index])\n",
    "    fR2 = np.real(powSpect2[f_index])\n",
    "    fi2 = np.imag(powSpect2[f_index])\n",
    "    \n",
    "    time_deriv[:,i] = -fR1*fR2 - fi1*fi2\n",
    "    freq_deriv[:,i] = fi1*fR2 - fR1*fi2\n",
    "    frequency_modulation[i] = np.arctan((np.max(time_deriv[:,i])/np.max(freq_deriv[:,i]))+0.1)\n",
    "    \n",
    "    cFM = np.cos(frequency_modulation[i])\n",
    "    sFM = np.sin(frequency_modulation[i])\n",
    "    spectral_derivative[:,i] = time_deriv[:,i].dot(cFM) + freq_deriv[:,i].dot(sFM)\n",
    "\n",
    "# Plot the sonogram\n",
    "import matplotlib.pyplot as plt\n",
    "\n",
    "plt.imshow(np.log(sonogram), aspect='auto', origin='lower')\n",
    "plt.colorbar()\n",
    "plt.xlabel('Time')\n",
    "plt.ylabel('Frequency')\n",
    "plt.title('Sonogram')\n",
    "plt.show()\n",
    "\n",
    "plt.imshow(spectral_derivative/np.max(spectral_derivative), aspect='auto', origin='lower', cmap='bwr')\n",
    "plt.colorbar()\n",
    "plt.xlabel('Time')\n",
    "plt.ylabel('Frequency')\n",
    "plt.title('Frequency Derivative')\n",
    "plt.show()"
   ]
  },
  {
   "cell_type": "markdown",
   "metadata": {},
   "source": [
    "## Amplitude"
   ]
  },
  {
   "cell_type": "code",
   "execution_count": null,
   "metadata": {},
   "outputs": [],
   "source": [
    "amp = 20*np.log10(np.sum(stft, axis=0))-70\n",
    "\n",
    "plt.clf()\n",
    "fig, ax1 = plt.subplots(figsize=(20,10))\n",
    "ax1.pcolormesh(t,f, spec_der)\n",
    "plt.ylim([0, 10000])\n",
    "plt.xlabel('Time (s)')\n",
    "plt.ylabel('Frequency (Hz)')\n",
    "plt.title('Amplitude (dB)')\n",
    "\n",
    "ax2 = ax1.twinx()\n",
    "ax2.plot(t, amp)"
   ]
  },
  {
   "cell_type": "markdown",
   "metadata": {},
   "source": [
    "## Pitch Estimation (Peak/Mean Frequency)"
   ]
  },
  {
   "cell_type": "code",
   "execution_count": null,
   "metadata": {},
   "outputs": [],
   "source": [
    "peak_freq = f[np.argmax(stft, axis=0)]\n",
    "mean_freq = f.dot(stft**2) / np.sum(stft**2, axis=0)\n",
    "\n",
    "plt.clf()\n",
    "plt.subplots(figsize=(20,10))\n",
    "plt.pcolormesh(t,f, spec_der)\n",
    "plt.ylim([0, 10000])\n",
    "\n",
    "plt.plot(t, peak_freq, '.k', label='Peak Frequency')\n",
    "plt.plot(t, mean_freq, '.r', label='Mean Frequency')\n",
    "plt.title('Pitch Estimatation For Sample Song')\n",
    "plt.xlabel('Time (s)')\n",
    "plt.ylabel('Frequency (Hz)')\n",
    "plt.legend()"
   ]
  },
  {
   "cell_type": "markdown",
   "metadata": {},
   "source": [
    "## Fundemental Frequency\n",
    "Using Librosa function"
   ]
  },
  {
   "cell_type": "code",
   "execution_count": null,
   "metadata": {},
   "outputs": [],
   "source": [
    "# Zebra finch range rarely goes over 1800 according to SAP\n",
    "freq_range = [50, 2000]\n",
    "\n",
    "ff_lib = librosa.yin(audio_clip.astype(float), fmin=freq_range[0], fmax=freq_range[1], sr=fs)\n",
    "t_lib = np.linspace(0, len(audio_clip)/fs, len(ff_lib))\n",
    "\n",
    "plt.clf()\n",
    "plt.subplots(figsize=(20,10))\n",
    "plt.pcolormesh(t,f, spec_der)\n",
    "plt.ylim([0, 10000])\n",
    "\n",
    "plt.plot(t, peak_freq, '.k', label='Peak Frequency')\n",
    "plt.plot(t, mean_freq, '.r', label='Mean Frequency')\n",
    "plt.plot(t_lib, ff_lib, '.b', label='Fundamental Frequency')\n",
    "plt.title('Pitch Estimatation For Sample Song')\n",
    "plt.xlabel('Time (s)')\n",
    "plt.ylabel('Frequency (Hz)')\n",
    "plt.legend()\n"
   ]
  },
  {
   "cell_type": "markdown",
   "metadata": {},
   "source": [
    "# Wiener Entropy"
   ]
  },
  {
   "cell_type": "code",
   "execution_count": 7,
   "metadata": {},
   "outputs": [],
   "source": [
    "# Taken from antropy package, list of functions for entropy calculation\n",
    "# https://github.com/raphaelvallat/antropy/tree/master/antropy\n",
    "\n",
    "def xlogx(x, base=2):\n",
    "    \"\"\"Returns x log_b x if x is positive, 0 if x == 0, and np.nan\n",
    "    otherwise. This handles the case when the power spectrum density\n",
    "    takes any zero value.\n",
    "    \"\"\"\n",
    "    x = np.asarray(x)\n",
    "    xlogx = np.zeros(x.shape)\n",
    "    xlogx[x < 0] = np.nan\n",
    "    valid = x > 0\n",
    "    xlogx[valid] = x[valid] * np.log(x[valid]) / np.log(base)\n",
    "    return xlogx\n",
    "\n",
    "def spectral_entropy(x, fs, method='fft', nperseg=None, normalize=True, axis=-1):\n",
    "    x = np.asarray(x)\n",
    "    # Compute and normalize power spectrum\n",
    "    if method == \"fft\":\n",
    "        _, psd = signal.periodogram(x, fs, axis=axis)\n",
    "    elif method == \"welch\":\n",
    "        _, psd = signal.welch(x, fs, nperseg=nperseg, axis=axis)\n",
    "    psd_norm = psd / psd.sum(axis=axis, keepdims=True)\n",
    "    se = -xlogx(psd_norm).sum(axis=axis)\n",
    "    if normalize:\n",
    "        se /= np.log2(psd_norm.shape[axis])\n",
    "    return se\n",
    "\n",
    "# Create overlapping blocks for Overlap-Add Method\n",
    "# From https://www.kuniga.me/blog/2021/12/11/pitch-via-cepstrum.html\n",
    "\n",
    "def create_overlapping_blocks(x, window_length, fs, hop_length):\n",
    "    n = len(x)\n",
    "    w = signal.windows.hann(window_length)\n",
    "    nw = len(w)\n",
    "    step = hop_length\n",
    "    nb = np.floor((n - nw) / step).astype(int) + 1\n",
    "\n",
    "    B = np.zeros((nb, nw))\n",
    "    t = np.arange(nb) * (step/fs)\n",
    "\n",
    "    for i in range(nb):\n",
    "        offset = i * step\n",
    "        B[i, :] = w * x[offset : nw + offset]\n",
    "\n",
    "    return B, t"
   ]
  },
  {
   "cell_type": "code",
   "execution_count": null,
   "metadata": {},
   "outputs": [],
   "source": [
    "B, t_ent_extra = create_overlapping_blocks(audio_clip, window_length, fs, hop_length)\n",
    "spec_ent_xtra = np.apply_along_axis(spectral_entropy, 1, B, fs)\n",
    "\n",
    "t_ent = np.interp(t, t_ent_extra, t_ent_extra)\n",
    "spec_ent = np.interp(t, t_ent_extra, spec_ent_xtra)\n",
    "\n",
    "plt.clf()\n",
    "fig, ax1 = plt.subplots(figsize=(20,10))\n",
    "ax1.pcolormesh(t,f, spec_der)\n",
    "plt.ylim([0, 10000])\n",
    "ax1.set_yticks([])\n",
    "plt.xlabel('Time (s)')\n",
    "\n",
    "ax2 = ax1.twinx()\n",
    "ax2.plot(t_ent, spec_ent, 'g', label='Spectral Entropy')\n",
    "\n",
    "ax3 = ax2.twinx()\n",
    "ax3.plot(t, amp, label='Amplitude')\n",
    "plt.title('Amplitude (dB) and Spectral Enropy (Unitless)')\n",
    "plt.tight_layout()"
   ]
  },
  {
   "cell_type": "markdown",
   "metadata": {},
   "source": [
    "## Frequency Modulation"
   ]
  },
  {
   "cell_type": "code",
   "execution_count": null,
   "metadata": {},
   "outputs": [],
   "source": [
    "freq_comp = np.argmax(dPdt**2, axis=0)\n",
    "time_comp = np.argmax(dPdf**2, axis=0)\n",
    "freq_mod = np.arctan(freq_comp / time_comp)\n",
    "\n",
    "plt.clf()\n",
    "fig, ax1 = plt.subplots(figsize=(20,10))\n",
    "plt.pcolormesh(t,f, spec_der)\n",
    "plt.ylim([0, 10000])\n",
    "plt.xlabel('Time (s)')\n",
    "plt.title('Frequency Modulation')\n",
    "\n",
    "ax2 = ax1.twinx()\n",
    "ax2.plot(t, freq_mod, 'c')"
   ]
  },
  {
   "cell_type": "markdown",
   "metadata": {},
   "source": [
    "## Amplitude Modulation"
   ]
  },
  {
   "cell_type": "code",
   "execution_count": null,
   "metadata": {},
   "outputs": [],
   "source": [
    "amp_mod = dPdt.sum(axis=0)\n",
    "\n",
    "plt.clf()\n",
    "fig, ax1 = plt.subplots(figsize=(20,10))\n",
    "ax1.pcolormesh(t,f, spec_der)\n",
    "plt.ylim([0, 10000])\n",
    "plt.xlabel('Time (s)') \n",
    "\n",
    "ax2 = ax1.twinx()\n",
    "ax2.plot(t, amp_mod, 'm')\n",
    "plt.title('Amplitude Modulation')"
   ]
  },
  {
   "cell_type": "markdown",
   "metadata": {},
   "source": [
    "## Spectral Continuity"
   ]
  },
  {
   "cell_type": "code",
   "execution_count": null,
   "metadata": {},
   "outputs": [],
   "source": [
    "kernel = 10e-6*np.array([[1,1,1], [1, -8, 1], [1,1,1]])\n",
    "result = signal.convolve2d(spec_der, kernel, mode='same')\n",
    "T_prime = 100\n",
    "threshold = np.zeros_like(result)\n",
    "\n",
    "for f_idx, temp_f in enumerate(f):\n",
    "    for t_idx, temp_t in enumerate(t):\n",
    "        threshold[f_idx, t_idx] = T_prime*np.abs(spec_ent[t_idx]) / np.abs(temp_f - mean_freq[t_idx])\n",
    "\n",
    "contour = result > threshold\n",
    "\n",
    "plt.clf()\n",
    "plt.subplots(figsize=(20,10))\n",
    "plt.subplot(2,1,1)\n",
    "plt.pcolormesh(t,f, spec_der)\n",
    "plt.ylim([0, 10000])\n",
    "plt.title('Spectral Derivative')\n",
    "\n",
    "plt.subplot(2,1,2)\n",
    "plt.pcolormesh(t,f, contour)\n",
    "plt.title('Contour Plot')"
   ]
  },
  {
   "cell_type": "markdown",
   "metadata": {},
   "source": [
    "## Librosa Spectral Contrast"
   ]
  },
  {
   "cell_type": "code",
   "execution_count": null,
   "metadata": {},
   "outputs": [],
   "source": [
    "sc_lib = librosa.feature.spectral_contrast(S=stft, sr=fs)\n",
    "plt.subplots(figsize=(20,10))\n",
    "plt.pcolormesh(t, np.arange(7), sc_lib)\n",
    "plt.colorbar()\n",
    "plt.title('Spectral Contrast')\n",
    "plt.xlabel('Time (s)')"
   ]
  },
  {
   "cell_type": "markdown",
   "metadata": {},
   "source": [
    "## Mel Spectrogram"
   ]
  },
  {
   "cell_type": "code",
   "execution_count": null,
   "metadata": {},
   "outputs": [],
   "source": [
    "mel_stft = librosa.feature.melspectrogram(sr=fs, S=stft, n_mels=128, fmax=10000)\n",
    "mel_f = librosa.mel_frequencies(n_mels=128, fmax=10000)\n",
    "\n",
    "# Calculate the spectral derivative as the sum of the time derivative and the frequency derivative\n",
    "dPdt_mel = np.diff(mel_stft, axis=1, append=0)\n",
    "dPdf_mel = np.diff(mel_stft, axis=0, append=0)\n",
    "spec_der_mel = dPdt_mel + dPdf_mel\n",
    "\n",
    "plt.clf()\n",
    "plt.figure(figsize=(20,10))\n",
    "\n",
    "plt.subplot(2,2,1)\n",
    "plt.pcolormesh(t,f, stft)\n",
    "plt.title('STFT')\n",
    "plt.colorbar()\n",
    "plt.ylim([0, 10000])\n",
    "plt.xlabel('Time (s)')\n",
    "\n",
    "plt.subplot(2,2,3)\n",
    "plt.pcolormesh(t, f, spec_der)\n",
    "plt.title('Spectrogram Derivative')\n",
    "plt.colorbar()\n",
    "plt.ylim([0, 10000])\n",
    "plt.xlabel('Time (s)')\n",
    "plt.tight_layout()\n",
    "\n",
    "plt.subplot(2,2,2)\n",
    "plt.pcolormesh(t,mel_f, mel_stft)\n",
    "plt.title('Mel Spectrogram')\n",
    "plt.colorbar()\n",
    "plt.ylim([0, 10000])\n",
    "plt.xlabel('Time (s)')\n",
    "\n",
    "plt.subplot(2,2,4)\n",
    "plt.pcolormesh(t,mel_f, spec_der_mel)\n",
    "plt.title('Mel Spectrogram Derivative')\n",
    "plt.colorbar()\n",
    "plt.ylim([0, 10000])\n",
    "plt.xlabel('Time (s)')\n",
    "plt.tight_layout()"
   ]
  },
  {
   "cell_type": "code",
   "execution_count": null,
   "metadata": {},
   "outputs": [],
   "source": []
  }
 ],
 "metadata": {
  "kernelspec": {
   "display_name": "birdsong",
   "language": "python",
   "name": "python3"
  },
  "language_info": {
   "codemirror_mode": {
    "name": "ipython",
    "version": 3
   },
   "file_extension": ".py",
   "mimetype": "text/x-python",
   "name": "python",
   "nbconvert_exporter": "python",
   "pygments_lexer": "ipython3",
   "version": "3.12.8"
  }
 },
 "nbformat": 4,
 "nbformat_minor": 2
}
