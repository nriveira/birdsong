{
 "cells": [
  {
   "cell_type": "code",
   "execution_count": 1,
   "metadata": {},
   "outputs": [],
   "source": [
    "# Align times from annotated data, imaging data, and audio data\n",
    "# Output: time stamps in the same units\n",
    "#         audio data, imaging data, annotated data\n",
    "\n",
    "# First open all three files\n",
    "# Then find the time stamps for each of the three files\n",
    "# Then align the time stamps\n",
    "# Then output the aligned time stamps and the data\n",
    "\n",
    "# Import libraries\n",
    "import numpy as np\n",
    "import pandas as pd\n",
    "import matplotlib.pyplot as plt\n",
    "from scipy.io import wavfile"
   ]
  },
  {
   "cell_type": "markdown",
   "metadata": {},
   "source": [
    "Load in all data"
   ]
  },
  {
   "cell_type": "code",
   "execution_count": 2,
   "metadata": {},
   "outputs": [],
   "source": [
    "from datetime import datetime\n",
    "\n",
    "# Load in data\n",
    "labeled = pd.read_csv('2023_03_31_7_03_30_annotated.txt', sep='\\t', \n",
    "                                                          header=None, \n",
    "                                                          names=['start', 'end', 'note'])\n",
    "calcium = pd.read_csv('2023_03_31_undirected_song_joint_spkfn.csv')\n",
    "fs, audio = wavfile.read('2023_03_31_7_03_30.wav')"
   ]
  },
  {
   "cell_type": "markdown",
   "metadata": {},
   "source": [
    "Transform calcium data for later use"
   ]
  },
  {
   "cell_type": "code",
   "execution_count": 3,
   "metadata": {},
   "outputs": [],
   "source": [
    "# Convert calcium datastruct to matrix\n",
    "# the columns that have the word 'neuron' in it\n",
    "col_names = calcium.columns\n",
    "neuron_cols = [col for col in col_names if 'neuron' in col]\n",
    "total_neurons = len(neuron_cols)\n",
    "calcium_mat = calcium[neuron_cols].to_numpy()\n",
    "\n",
    "#dF = np.diff(calcium_mat, axis=0)\n",
    "f5 = np.percentile(calcium_mat, 5, axis=0)\n",
    "dF_f0 = (calcium_mat-f5) / f5"
   ]
  },
  {
   "cell_type": "markdown",
   "metadata": {},
   "source": [
    "Align all time data"
   ]
  },
  {
   "cell_type": "code",
   "execution_count": 13,
   "metadata": {},
   "outputs": [],
   "source": [
    "# Assign time stamps to each data set\n",
    "calcium_ms = calcium['stamp_msSinceEpoch']\n",
    "audio_t0 = np.arange(len(audio))/fs\n",
    "\n",
    "# Base time from manually entered data (EVERYTHING SHOULD BE SYNCED TO THIS TIME)\n",
    "base_dt = datetime(year=2023, month=3, day=31, hour=7, minute=1, second=35, microsecond=239000)\n",
    "base_ms = 1680271295239\n",
    "ca_fs = 1/15\n",
    "\n",
    "# Start time of wav file\n",
    "base_wav = datetime(year=2023, month=3, day=31, hour=7, minute=3, second=30)\n",
    "\n",
    "# Calcium time relative to base time\n",
    "calcium_t = (calcium_ms - base_ms)/1000\n",
    "\n",
    "# Audio data time relative to base time\n",
    "audio_delay = (base_wav - base_dt).total_seconds()\n",
    "audio_t = audio_t0 - audio_delay\n",
    "\n",
    "# Align start and end time stamps\n",
    "labeled['start_t'] = labeled['start']-audio_delay\n",
    "labeled['end_t'] = labeled['end']-audio_delay\n",
    "\n",
    "# Limit the data to only positive start_t and reindex\n",
    "labeled = labeled[labeled['start_t'] > 0]\n",
    "labeled = labeled.reset_index(drop=True)\n",
    "\n",
    "start_idx = np.zeros(len(labeled))\n",
    "# add the labeled start index to the calcium data\n",
    "for i in range(len(labeled)):\n",
    "    idx = np.argmin(np.abs(calcium_t - labeled['start_t'][i]))\n",
    "    #if(idx <= 3*ca_fs):\n",
    "    start_idx[i] = idx\n",
    "\n",
    "# add the start index to the labeled data\n",
    "labeled['start_idx'] = start_idx.astype(int)"
   ]
  },
  {
   "cell_type": "markdown",
   "metadata": {},
   "source": [
    "Align all notes for one neuron"
   ]
  },
  {
   "cell_type": "code",
   "execution_count": 17,
   "metadata": {},
   "outputs": [
    {
     "name": "stderr",
     "output_type": "stream",
     "text": [
      "c:\\Users\\nriveira\\AppData\\Local\\anaconda3\\envs\\librosa\\Lib\\site-packages\\numpy\\core\\fromnumeric.py:3464: RuntimeWarning: Mean of empty slice.\n",
      "  return _methods._mean(a, axis=axis, dtype=dtype,\n",
      "c:\\Users\\nriveira\\AppData\\Local\\anaconda3\\envs\\librosa\\Lib\\site-packages\\numpy\\core\\_methods.py:184: RuntimeWarning: invalid value encountered in divide\n",
      "  ret = um.true_divide(\n"
     ]
    }
   ],
   "source": [
    "# Show only the labeled data for a certain syllable\n",
    "for neuron in range(total_neurons):\n",
    "    for syl in labeled['note'].unique():\n",
    "        offset = 30\n",
    "\n",
    "        labeled_syl = labeled[labeled['note'] == syl]\n",
    "        labeled_syl = labeled_syl.reset_index(drop=True)\n",
    "\n",
    "        # Plot the labeled data for a certain syllable\n",
    "        traces = np.zeros((len(labeled_syl), total_neurons, offset))\n",
    "\n",
    "        # Fill in the calcium traces for each syllable\n",
    "        for i in range(len(labeled_syl)):\n",
    "            idx = labeled_syl['start_idx'][i]\n",
    "            traces[i] = dF_f0[idx:idx+offset].T\n",
    "\n",
    "        # Plot all traces above each other\n",
    "        plt.plot(np.arange(offset)*ca_fs, np.mean(traces[:,neuron,:], axis=0))\n",
    "\n",
    "    plt.xlabel('Time (s)')\n",
    "    plt.legend(labeled['note'].unique())\n",
    "    plt.title('Neuron ' + str(neuron))\n",
    "    plt.savefig('Figures/neuron_' + str(neuron) + '.png')\n",
    "    plt.close()"
   ]
  },
  {
   "cell_type": "code",
   "execution_count": 21,
   "metadata": {},
   "outputs": [
    {
     "data": {
      "text/plain": [
       "array(['i', 'x', 'y', 'j', 'a', 'b', 'c', 'd', 'e', 'f', 'g', 'k', 'l',\n",
       "       nan], dtype=object)"
      ]
     },
     "execution_count": 21,
     "metadata": {},
     "output_type": "execute_result"
    }
   ],
   "source": [
    "labeled['note'].unique()"
   ]
  }
 ],
 "metadata": {
  "kernelspec": {
   "display_name": "librosa",
   "language": "python",
   "name": "python3"
  },
  "language_info": {
   "codemirror_mode": {
    "name": "ipython",
    "version": 3
   },
   "file_extension": ".py",
   "mimetype": "text/x-python",
   "name": "python",
   "nbconvert_exporter": "python",
   "pygments_lexer": "ipython3",
   "version": "3.11.6"
  }
 },
 "nbformat": 4,
 "nbformat_minor": 2
}
