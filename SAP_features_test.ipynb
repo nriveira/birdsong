{
 "cells": [
  {
   "cell_type": "code",
   "execution_count": 2,
   "metadata": {},
   "outputs": [],
   "source": [
    "import matplotlib.pyplot as plt\n",
    "import IPython.display as ipd\n",
    "from scipy.io import wavfile\n",
    "import SAP_features as SAP\n",
    "\n",
    "%matplotlib inline"
   ]
  },
  {
   "cell_type": "code",
   "execution_count": null,
   "metadata": {},
   "outputs": [],
   "source": [
    "sound_file = '2023_03_31_7_03_30.wav'\n",
    "fs, audio = wavfile.read(sound_file)\n",
    "audio_clip = audio[:fs*5]\n",
    "ipd.Audio(sound_file)"
   ]
  },
  {
   "cell_type": "markdown",
   "metadata": {},
   "source": [
    "## STFT and Spectral Derivative"
   ]
  },
  {
   "cell_type": "code",
   "execution_count": null,
   "metadata": {},
   "outputs": [],
   "source": [
    "import numpy as np\n",
    "\n",
    "sap = SAP.SAP_features(audio_clip, fs, window_size=1323, hop_length=163)\n",
    "\n",
    "plt.subplot(2,1,1)\n",
    "plt.pcolormesh(sap.t,sap.f, np.log(sap.sonogram))\n",
    "plt.title('STFT')\n",
    "plt.colorbar()\n",
    "plt.ylim([0, 10000])\n",
    "plt.xlabel('Time (s)')\n",
    "\n",
    "plt.subplot(2,1,2)\n",
    "plt.pcolormesh(sap.t,sap.f, sap.spectral_derivative)\n",
    "plt.title('Spectral Derivative')\n",
    "plt.colorbar()\n",
    "plt.ylim([0, 10000])\n",
    "plt.xlabel('Time (s)')\n",
    "\n",
    "plt.tight_layout()"
   ]
  },
  {
   "cell_type": "markdown",
   "metadata": {},
   "source": [
    "## Amplitude ##"
   ]
  },
  {
   "cell_type": "code",
   "execution_count": null,
   "metadata": {},
   "outputs": [],
   "source": [
    "fig, ax1 = plt.subplots()\n",
    "ax1.pcolormesh(sap.t,sap.f, sap.spectral_derivative)\n",
    "plt.ylim([0, 10000])\n",
    "plt.xlabel('Time (s)')\n",
    "plt.ylabel('Frequency (Hz)')\n",
    "plt.title('Amplitude (dB)')\n",
    "\n",
    "ax2 = ax1.twinx()\n",
    "ax2.plot(sap.t, sap.amplitude**2)"
   ]
  },
  {
   "cell_type": "markdown",
   "metadata": {},
   "source": [
    "## Pitch Estimation"
   ]
  },
  {
   "cell_type": "code",
   "execution_count": null,
   "metadata": {},
   "outputs": [],
   "source": [
    "plt.subplots()\n",
    "plt.pcolormesh(sap.t,sap.f, sap.spectral_derivative)\n",
    "plt.ylim([0, 10000])\n",
    "\n",
    "# TODO - fix yin sampling rate\n",
    "plt.plot(sap.t, sap.peak_freq, '.k', label='Peak Frequency')\n",
    "plt.plot(sap.t, sap.mean_freq, '.r', label='Mean Frequency')\n",
    "#plt.plot(sap.t, sap.yin_freq, '.b', label='Fundamental Frequency')\n",
    "plt.title('Pitch Estimatation For Sample Song')\n",
    "plt.xlabel('Time (s)')\n",
    "plt.ylabel('Frequency (Hz)')\n",
    "plt.legend()"
   ]
  },
  {
   "cell_type": "markdown",
   "metadata": {},
   "source": [
    "## Weiner Entropy"
   ]
  },
  {
   "cell_type": "code",
   "execution_count": null,
   "metadata": {},
   "outputs": [],
   "source": [
    "fig, ax1 = plt.subplots()\n",
    "ax1.pcolormesh(sap.t,sap.f, sap.spectral_derivative)\n",
    "plt.ylim([0, 10000])\n",
    "ax1.set_yticks([])\n",
    "plt.xlabel('Time (s)')\n",
    "\n",
    "ax2 = ax1.twinx()\n",
    "ax2.plot(sap.t, sap.entropy, 'g', label='Spectral Entropy')"
   ]
  },
  {
   "cell_type": "markdown",
   "metadata": {},
   "source": [
    "## Frequency Modulation"
   ]
  },
  {
   "cell_type": "code",
   "execution_count": null,
   "metadata": {},
   "outputs": [],
   "source": [
    "fig, ax1 = plt.subplots()\n",
    "plt.pcolormesh(sap.t,sap.f, sap.spectral_derivative/np.max(sap.spectral_derivative))\n",
    "plt.ylim([0, 10000])\n",
    "plt.xlabel('Time (s)')\n",
    "plt.title('Frequency Modulation')\n",
    "\n",
    "ax2 = ax1.twinx()\n",
    "ax2.plot(sap.t, sap.frequency_modulation, 'c')"
   ]
  },
  {
   "cell_type": "markdown",
   "metadata": {},
   "source": [
    "## Amplitude Modulation"
   ]
  },
  {
   "cell_type": "code",
   "execution_count": null,
   "metadata": {},
   "outputs": [],
   "source": [
    "fig, ax1 = plt.subplots()\n",
    "plt.pcolormesh(sap.t,sap.f, sap.spectral_derivative)\n",
    "plt.ylim([0, 10000])\n",
    "plt.xlabel('Time (s)')\n",
    "plt.title('Frequency Modulation')\n",
    "\n",
    "ax2 = ax1.twinx()\n",
    "ax2.plot(sap.t, sap.amplitude_modulation, 'c')"
   ]
  },
  {
   "cell_type": "code",
   "execution_count": null,
   "metadata": {},
   "outputs": [],
   "source": []
  }
 ],
 "metadata": {
  "kernelspec": {
   "display_name": "birdsong",
   "language": "python",
   "name": "python3"
  },
  "language_info": {
   "codemirror_mode": {
    "name": "ipython",
    "version": 3
   },
   "file_extension": ".py",
   "mimetype": "text/x-python",
   "name": "python",
   "nbconvert_exporter": "python",
   "pygments_lexer": "ipython3",
   "version": "3.11.6"
  }
 },
 "nbformat": 4,
 "nbformat_minor": 2
}
